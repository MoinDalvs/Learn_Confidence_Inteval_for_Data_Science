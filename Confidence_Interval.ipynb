{
 "cells": [
  {
   "cell_type": "code",
   "execution_count": 1,
   "id": "e6b55181",
   "metadata": {},
   "outputs": [],
   "source": [
    "import pandas as pd\n",
    "import numpy as np\n",
    "from scipy import stats"
   ]
  },
  {
   "cell_type": "markdown",
   "id": "2c89b89b",
   "metadata": {},
   "source": [
    "# Reverse lookup for z test"
   ]
  },
  {
   "cell_type": "markdown",
   "id": "e82b1def",
   "metadata": {},
   "source": [
    "### To get Z score\n",
    "### For 95% Confidence "
   ]
  },
  {
   "cell_type": "markdown",
   "id": "b6312dc3",
   "metadata": {},
   "source": [
    "### Two-Sided Tail"
   ]
  },
  {
   "cell_type": "code",
   "execution_count": 18,
   "id": "cb8c7286",
   "metadata": {},
   "outputs": [
    {
     "data": {
      "text/plain": [
       "-1.959963984540054"
      ]
     },
     "execution_count": 18,
     "metadata": {},
     "output_type": "execute_result"
    }
   ],
   "source": [
    "stats.norm.ppf((1-0.95)/2)"
   ]
  },
  {
   "cell_type": "code",
   "execution_count": 6,
   "id": "550b306c",
   "metadata": {},
   "outputs": [
    {
     "data": {
      "text/plain": [
       "-1.6448536269514729"
      ]
     },
     "execution_count": 6,
     "metadata": {},
     "output_type": "execute_result"
    }
   ],
   "source": [
    "stats.norm.ppf((1-0.90)/2)"
   ]
  },
  {
   "cell_type": "markdown",
   "id": "3176aafd",
   "metadata": {},
   "source": [
    "### Right Tailed"
   ]
  },
  {
   "cell_type": "code",
   "execution_count": 4,
   "id": "bd0cd9c5",
   "metadata": {},
   "outputs": [
    {
     "data": {
      "text/plain": [
       "1.959963984540054"
      ]
     },
     "execution_count": 4,
     "metadata": {},
     "output_type": "execute_result"
    }
   ],
   "source": [
    "stats.norm.ppf(0.975)"
   ]
  },
  {
   "cell_type": "code",
   "execution_count": 8,
   "id": "1cbb211d",
   "metadata": {},
   "outputs": [
    {
     "data": {
      "text/plain": [
       "1.6448536269514722"
      ]
     },
     "execution_count": 8,
     "metadata": {},
     "output_type": "execute_result"
    }
   ],
   "source": [
    "stats.norm.ppf(0.95)"
   ]
  },
  {
   "cell_type": "code",
   "execution_count": 13,
   "id": "1b7e8a61",
   "metadata": {},
   "outputs": [
    {
     "data": {
      "text/plain": [
       "1.2815515655446004"
      ]
     },
     "execution_count": 13,
     "metadata": {},
     "output_type": "execute_result"
    }
   ],
   "source": [
    "stats.norm.ppf(0.90)"
   ]
  },
  {
   "cell_type": "markdown",
   "id": "c3e74134",
   "metadata": {},
   "source": [
    "### Left Tailed"
   ]
  },
  {
   "cell_type": "code",
   "execution_count": 16,
   "id": "c7903e90",
   "metadata": {},
   "outputs": [
    {
     "data": {
      "text/plain": [
       "-1.959963984540054"
      ]
     },
     "execution_count": 16,
     "metadata": {},
     "output_type": "execute_result"
    }
   ],
   "source": [
    "stats.norm.ppf(1-0.975)"
   ]
  },
  {
   "cell_type": "code",
   "execution_count": 15,
   "id": "2d6e9830",
   "metadata": {},
   "outputs": [
    {
     "data": {
      "text/plain": [
       "-1.6448536269514722"
      ]
     },
     "execution_count": 15,
     "metadata": {},
     "output_type": "execute_result"
    }
   ],
   "source": [
    "stats.norm.ppf(1-0.95)"
   ]
  },
  {
   "cell_type": "code",
   "execution_count": 14,
   "id": "57dd115c",
   "metadata": {},
   "outputs": [
    {
     "data": {
      "text/plain": [
       "-1.2815515655446004"
      ]
     },
     "execution_count": 14,
     "metadata": {},
     "output_type": "execute_result"
    }
   ],
   "source": [
    "stats.norm.ppf(1-0.90)"
   ]
  },
  {
   "cell_type": "markdown",
   "id": "5f0a2ea9",
   "metadata": {},
   "source": [
    "# Reverse lookup test for t test"
   ]
  },
  {
   "cell_type": "markdown",
   "id": "ccc8a84f",
   "metadata": {},
   "source": [
    "### To get T value for 95% Confidence"
   ]
  },
  {
   "cell_type": "code",
   "execution_count": 14,
   "id": "7e6aa9be",
   "metadata": {},
   "outputs": [
    {
     "data": {
      "text/plain": [
       "-1.9771777244761224"
      ]
     },
     "execution_count": 14,
     "metadata": {},
     "output_type": "execute_result"
    }
   ],
   "source": [
    "stats.t.ppf(.025,df=139)"
   ]
  },
  {
   "cell_type": "markdown",
   "id": "3a3772cf",
   "metadata": {},
   "source": [
    "# Finding Confidence Interval "
   ]
  },
  {
   "cell_type": "markdown",
   "id": "b85baf84",
   "metadata": {},
   "source": [
    "### a. Population standard deviation known"
   ]
  },
  {
   "cell_type": "markdown",
   "id": "8f9bb626",
   "metadata": {},
   "source": [
    "#### <p style='color:red'> confidence interval for z test <p>"
   ]
  },
  {
   "cell_type": "code",
   "execution_count": 10,
   "id": "ac430a24",
   "metadata": {},
   "outputs": [
    {
     "data": {
      "text/plain": [
       "array([1576., 2404.])"
      ]
     },
     "execution_count": 10,
     "metadata": {},
     "output_type": "execute_result"
    }
   ],
   "source": [
    "conf_interval_z = stats.norm.interval(alpha = 0.95, loc = 1990, scale = 2500/np.sqrt(140))\n",
    "np.round(conf_interval_z,0)"
   ]
  },
  {
   "cell_type": "markdown",
   "id": "a576bdc8",
   "metadata": {},
   "source": [
    "### b. Population standard deviation not known"
   ]
  },
  {
   "cell_type": "markdown",
   "id": "12975104",
   "metadata": {},
   "source": [
    "<p style='color:red'> confidence interval for t test <p>"
   ]
  },
  {
   "cell_type": "code",
   "execution_count": 14,
   "id": "609874ce",
   "metadata": {},
   "outputs": [
    {
     "data": {
      "text/plain": [
       "array([1517., 2463.])"
      ]
     },
     "execution_count": 14,
     "metadata": {},
     "output_type": "execute_result"
    }
   ],
   "source": [
    "conf_interval_t = stats.t.interval( alpha = 0.95, df=139, loc = 1990, scale = 2833/np.sqrt(140))\n",
    "np.round(conf_interval_t,0)"
   ]
  },
  {
   "cell_type": "markdown",
   "id": "652e72be",
   "metadata": {},
   "source": [
    "# Standard Normal Distribution"
   ]
  },
  {
   "cell_type": "code",
   "execution_count": 25,
   "id": "b443c4be",
   "metadata": {},
   "outputs": [
    {
     "data": {
      "text/html": [
       "<div>\n",
       "<style scoped>\n",
       "    .dataframe tbody tr th:only-of-type {\n",
       "        vertical-align: middle;\n",
       "    }\n",
       "\n",
       "    .dataframe tbody tr th {\n",
       "        vertical-align: top;\n",
       "    }\n",
       "\n",
       "    .dataframe thead th {\n",
       "        text-align: right;\n",
       "    }\n",
       "</style>\n",
       "<table border=\"1\" class=\"dataframe\">\n",
       "  <thead>\n",
       "    <tr style=\"text-align: right;\">\n",
       "      <th></th>\n",
       "      <th>Close</th>\n",
       "      <th>Gain</th>\n",
       "    </tr>\n",
       "    <tr>\n",
       "      <th>Date</th>\n",
       "      <th></th>\n",
       "      <th></th>\n",
       "    </tr>\n",
       "  </thead>\n",
       "  <tbody>\n",
       "    <tr>\n",
       "      <th>2010-01-05</th>\n",
       "      <td>1616.80</td>\n",
       "      <td>-0.005444</td>\n",
       "    </tr>\n",
       "    <tr>\n",
       "      <th>2010-01-06</th>\n",
       "      <td>1638.50</td>\n",
       "      <td>0.013422</td>\n",
       "    </tr>\n",
       "    <tr>\n",
       "      <th>2010-01-07</th>\n",
       "      <td>1648.70</td>\n",
       "      <td>0.006225</td>\n",
       "    </tr>\n",
       "    <tr>\n",
       "      <th>2010-01-08</th>\n",
       "      <td>1639.80</td>\n",
       "      <td>-0.005398</td>\n",
       "    </tr>\n",
       "    <tr>\n",
       "      <th>2010-01-11</th>\n",
       "      <td>1629.45</td>\n",
       "      <td>-0.006312</td>\n",
       "    </tr>\n",
       "    <tr>\n",
       "      <th>...</th>\n",
       "      <td>...</td>\n",
       "      <td>...</td>\n",
       "    </tr>\n",
       "    <tr>\n",
       "      <th>2016-12-26</th>\n",
       "      <td>2723.50</td>\n",
       "      <td>-0.001283</td>\n",
       "    </tr>\n",
       "    <tr>\n",
       "      <th>2016-12-27</th>\n",
       "      <td>2701.75</td>\n",
       "      <td>-0.007986</td>\n",
       "    </tr>\n",
       "    <tr>\n",
       "      <th>2016-12-28</th>\n",
       "      <td>2702.15</td>\n",
       "      <td>0.000148</td>\n",
       "    </tr>\n",
       "    <tr>\n",
       "      <th>2016-12-29</th>\n",
       "      <td>2727.90</td>\n",
       "      <td>0.009529</td>\n",
       "    </tr>\n",
       "    <tr>\n",
       "      <th>2016-12-30</th>\n",
       "      <td>2729.80</td>\n",
       "      <td>0.000697</td>\n",
       "    </tr>\n",
       "  </tbody>\n",
       "</table>\n",
       "<p>1738 rows × 2 columns</p>\n",
       "</div>"
      ],
      "text/plain": [
       "              Close      Gain\n",
       "Date                         \n",
       "2010-01-05  1616.80 -0.005444\n",
       "2010-01-06  1638.50  0.013422\n",
       "2010-01-07  1648.70  0.006225\n",
       "2010-01-08  1639.80 -0.005398\n",
       "2010-01-11  1629.45 -0.006312\n",
       "...             ...       ...\n",
       "2016-12-26  2723.50 -0.001283\n",
       "2016-12-27  2701.75 -0.007986\n",
       "2016-12-28  2702.15  0.000148\n",
       "2016-12-29  2727.90  0.009529\n",
       "2016-12-30  2729.80  0.000697\n",
       "\n",
       "[1738 rows x 2 columns]"
      ]
     },
     "execution_count": 25,
     "metadata": {},
     "output_type": "execute_result"
    }
   ],
   "source": [
    "glaxo = pd.read_csv(\"..\\Documents\\EXcelR Study and Assignment Material\\Data Science\\Python\\CSV files\\GLAXO.csv\", usecols = [0,5])\n",
    "glaxo = glaxo.set_index(pd.DatetimeIndex(glaxo.Date))\n",
    "glaxo = glaxo.drop('Date', axis = 1)\n",
    "glaxo[\"Gain\"] = glaxo.Close.pct_change(periods = 1)\n",
    "glaxo = glaxo.dropna()\n",
    "glaxo.to_csv(\"GLAXO_gain.csv\")\n",
    "glaxo"
   ]
  },
  {
   "cell_type": "code",
   "execution_count": 24,
   "id": "a4d8b357",
   "metadata": {},
   "outputs": [
    {
     "name": "stdout",
     "output_type": "stream",
     "text": [
      "Gain at 95% Interval is: [-0.026  0.027]\n"
     ]
    }
   ],
   "source": [
    " print(\"Gain at 95% Interval is:\",np.round(stats.norm.interval(0.95, loc = glaxo.Gain.mean(), scale = glaxo.Gain.std()),3))"
   ]
  },
  {
   "cell_type": "code",
   "execution_count": 36,
   "id": "5bbea139",
   "metadata": {},
   "outputs": [
    {
     "data": {
      "text/html": [
       "<div>\n",
       "<style scoped>\n",
       "    .dataframe tbody tr th:only-of-type {\n",
       "        vertical-align: middle;\n",
       "    }\n",
       "\n",
       "    .dataframe tbody tr th {\n",
       "        vertical-align: top;\n",
       "    }\n",
       "\n",
       "    .dataframe thead th {\n",
       "        text-align: right;\n",
       "    }\n",
       "</style>\n",
       "<table border=\"1\" class=\"dataframe\">\n",
       "  <thead>\n",
       "    <tr style=\"text-align: right;\">\n",
       "      <th></th>\n",
       "      <th>Close</th>\n",
       "      <th>Gain</th>\n",
       "    </tr>\n",
       "    <tr>\n",
       "      <th>Date</th>\n",
       "      <th></th>\n",
       "      <th></th>\n",
       "    </tr>\n",
       "  </thead>\n",
       "  <tbody>\n",
       "    <tr>\n",
       "      <th>2010-01-05</th>\n",
       "      <td>1134.60</td>\n",
       "      <td>-0.000881</td>\n",
       "    </tr>\n",
       "    <tr>\n",
       "      <th>2010-01-06</th>\n",
       "      <td>1139.60</td>\n",
       "      <td>0.004407</td>\n",
       "    </tr>\n",
       "    <tr>\n",
       "      <th>2010-01-07</th>\n",
       "      <td>1144.15</td>\n",
       "      <td>0.003993</td>\n",
       "    </tr>\n",
       "    <tr>\n",
       "      <th>2010-01-08</th>\n",
       "      <td>1144.05</td>\n",
       "      <td>-0.000087</td>\n",
       "    </tr>\n",
       "    <tr>\n",
       "      <th>2010-01-11</th>\n",
       "      <td>1137.00</td>\n",
       "      <td>-0.006162</td>\n",
       "    </tr>\n",
       "    <tr>\n",
       "      <th>...</th>\n",
       "      <td>...</td>\n",
       "      <td>...</td>\n",
       "    </tr>\n",
       "    <tr>\n",
       "      <th>2016-12-26</th>\n",
       "      <td>950.25</td>\n",
       "      <td>-0.021924</td>\n",
       "    </tr>\n",
       "    <tr>\n",
       "      <th>2016-12-27</th>\n",
       "      <td>975.70</td>\n",
       "      <td>0.026782</td>\n",
       "    </tr>\n",
       "    <tr>\n",
       "      <th>2016-12-28</th>\n",
       "      <td>974.40</td>\n",
       "      <td>-0.001332</td>\n",
       "    </tr>\n",
       "    <tr>\n",
       "      <th>2016-12-29</th>\n",
       "      <td>986.05</td>\n",
       "      <td>0.011956</td>\n",
       "    </tr>\n",
       "    <tr>\n",
       "      <th>2016-12-30</th>\n",
       "      <td>1000.60</td>\n",
       "      <td>0.014756</td>\n",
       "    </tr>\n",
       "  </tbody>\n",
       "</table>\n",
       "<p>1738 rows × 2 columns</p>\n",
       "</div>"
      ],
      "text/plain": [
       "              Close      Gain\n",
       "Date                         \n",
       "2010-01-05  1134.60 -0.000881\n",
       "2010-01-06  1139.60  0.004407\n",
       "2010-01-07  1144.15  0.003993\n",
       "2010-01-08  1144.05 -0.000087\n",
       "2010-01-11  1137.00 -0.006162\n",
       "...             ...       ...\n",
       "2016-12-26   950.25 -0.021924\n",
       "2016-12-27   975.70  0.026782\n",
       "2016-12-28   974.40 -0.001332\n",
       "2016-12-29   986.05  0.011956\n",
       "2016-12-30  1000.60  0.014756\n",
       "\n",
       "[1738 rows x 2 columns]"
      ]
     },
     "execution_count": 36,
     "metadata": {},
     "output_type": "execute_result"
    }
   ],
   "source": [
    "beml = pd.read_csv(\"..\\Documents\\EXcelR Study and Assignment Material\\Data Science\\Python\\CSV files\\BEML.csv\", usecols = [0,5])\n",
    "beml = beml.set_index(pd.DatetimeIndex(beml.Date))\n",
    "beml.drop(\"Date\", axis =1, inplace = True)\n",
    "beml[\"Gain\"] = beml.Close.pct_change(periods = 1)\n",
    "beml.dropna(inplace = True)\n",
    "beml.to_csv(\"BEML_gain.csv\")\n",
    "beml"
   ]
  },
  {
   "cell_type": "code",
   "execution_count": 35,
   "id": "2562f7ad",
   "metadata": {},
   "outputs": [
    {
     "name": "stdout",
     "output_type": "stream",
     "text": [
      "Gain at 95% confidence interval [-0.052  0.052]\n"
     ]
    }
   ],
   "source": [
    "print(\"Gain at 95% confidence interval\", np.round(stats.norm.interval(0.95, loc = beml.Gain.mean(), scale = beml.Gain.std()),3))"
   ]
  },
  {
   "cell_type": "markdown",
   "id": "5170132e",
   "metadata": {},
   "source": [
    "# t-Distribution"
   ]
  },
  {
   "cell_type": "code",
   "execution_count": 47,
   "id": "18c4c225",
   "metadata": {},
   "outputs": [
    {
     "name": "stdout",
     "output_type": "stream",
     "text": [
      "Gain at 95% confidence interval [-0.052  0.052]\n"
     ]
    }
   ],
   "source": [
    "print(\"Gain at 95% confidence interval\", np.round(stats.t.interval(0.95, df = (beml.Gain.count()-1), loc = beml.Gain.mean(), scale = beml.Gain.std()),3))"
   ]
  },
  {
   "cell_type": "code",
   "execution_count": 51,
   "id": "cd44824f",
   "metadata": {},
   "outputs": [
    {
     "name": "stdout",
     "output_type": "stream",
     "text": [
      "Gain at 95% confidence interval [-0.026  0.027]\n"
     ]
    }
   ],
   "source": [
    "print(\"Gain at 95% confidence interval\", np.round(stats.t.interval(0.95, df = glaxo.Gain.count(), loc = glaxo.Gain.mean(), scale = glaxo.Gain.std()),3))"
   ]
  },
  {
   "cell_type": "code",
   "execution_count": 48,
   "id": "1f47e2c3",
   "metadata": {},
   "outputs": [
    {
     "data": {
      "text/plain": [
       "(1738, 2)"
      ]
     },
     "execution_count": 48,
     "metadata": {},
     "output_type": "execute_result"
    }
   ],
   "source": [
    "beml.shape"
   ]
  },
  {
   "cell_type": "code",
   "execution_count": 49,
   "id": "30f28c9e",
   "metadata": {},
   "outputs": [
    {
     "data": {
      "text/plain": [
       "Close    1738\n",
       "Gain     1738\n",
       "dtype: int64"
      ]
     },
     "execution_count": 49,
     "metadata": {},
     "output_type": "execute_result"
    }
   ],
   "source": [
    "beml.count()"
   ]
  },
  {
   "cell_type": "code",
   "execution_count": null,
   "id": "7cfbe8dc",
   "metadata": {},
   "outputs": [],
   "source": []
  },
  {
   "cell_type": "code",
   "execution_count": null,
   "id": "a2955d6a",
   "metadata": {},
   "outputs": [],
   "source": []
  },
  {
   "cell_type": "code",
   "execution_count": null,
   "id": "5d211817",
   "metadata": {},
   "outputs": [],
   "source": []
  },
  {
   "cell_type": "code",
   "execution_count": null,
   "id": "f51cbbd9",
   "metadata": {},
   "outputs": [],
   "source": []
  },
  {
   "cell_type": "code",
   "execution_count": null,
   "id": "d553f483",
   "metadata": {},
   "outputs": [],
   "source": []
  },
  {
   "cell_type": "code",
   "execution_count": null,
   "id": "2095ab8d",
   "metadata": {},
   "outputs": [],
   "source": []
  },
  {
   "cell_type": "code",
   "execution_count": null,
   "id": "03081319",
   "metadata": {},
   "outputs": [],
   "source": []
  }
 ],
 "metadata": {
  "kernelspec": {
   "display_name": "Python 3 (ipykernel)",
   "language": "python",
   "name": "python3"
  },
  "language_info": {
   "codemirror_mode": {
    "name": "ipython",
    "version": 3
   },
   "file_extension": ".py",
   "mimetype": "text/x-python",
   "name": "python",
   "nbconvert_exporter": "python",
   "pygments_lexer": "ipython3",
   "version": "3.9.7"
  }
 },
 "nbformat": 4,
 "nbformat_minor": 5
}
